{
 "cells": [
  {
   "cell_type": "markdown",
   "id": "d199a208",
   "metadata": {},
   "source": [
    "# Feature Selection and Bootstrapping"
   ]
  },
  {
   "cell_type": "markdown",
   "id": "1e86b586",
   "metadata": {},
   "source": [
    "## Feature Selection (6.6.11)"
   ]
  },
  {
   "cell_type": "markdown",
   "id": "05a99824",
   "metadata": {},
   "source": [
    "### PART 1 - MODEL ESTIMATION"
   ]
  },
  {
   "cell_type": "code",
   "execution_count": 1,
   "id": "9a789184",
   "metadata": {},
   "outputs": [],
   "source": [
    "import pandas as pd\n",
    "import io\n",
    "import requests\n",
    "import numpy as np\n",
    "import matplotlib.pyplot as plt\n",
    "import seaborn as sns\n",
    "from scipy import stats\n",
    "\n",
    "import sys\n",
    "\n",
    "if not sys.warnoptions:\n",
    "    import warnings\n",
    "    warnings.simplefilter(\"ignore\")"
   ]
  },
  {
   "cell_type": "code",
   "execution_count": 2,
   "id": "c28a0e1f",
   "metadata": {},
   "outputs": [
    {
     "data": {
      "text/html": [
       "<div>\n",
       "<style scoped>\n",
       "    .dataframe tbody tr th:only-of-type {\n",
       "        vertical-align: middle;\n",
       "    }\n",
       "\n",
       "    .dataframe tbody tr th {\n",
       "        vertical-align: top;\n",
       "    }\n",
       "\n",
       "    .dataframe thead th {\n",
       "        text-align: right;\n",
       "    }\n",
       "</style>\n",
       "<table border=\"1\" class=\"dataframe\">\n",
       "  <thead>\n",
       "    <tr style=\"text-align: right;\">\n",
       "      <th></th>\n",
       "      <th>crim</th>\n",
       "      <th>zn</th>\n",
       "      <th>indus</th>\n",
       "      <th>chas</th>\n",
       "      <th>nox</th>\n",
       "      <th>rm</th>\n",
       "      <th>age</th>\n",
       "      <th>dis</th>\n",
       "      <th>rad</th>\n",
       "      <th>tax</th>\n",
       "      <th>ptratio</th>\n",
       "      <th>lstat</th>\n",
       "      <th>medv</th>\n",
       "    </tr>\n",
       "  </thead>\n",
       "  <tbody>\n",
       "    <tr>\n",
       "      <th>1</th>\n",
       "      <td>0.00632</td>\n",
       "      <td>18.0</td>\n",
       "      <td>2.31</td>\n",
       "      <td>0</td>\n",
       "      <td>0.538</td>\n",
       "      <td>6.575</td>\n",
       "      <td>65.2</td>\n",
       "      <td>4.0900</td>\n",
       "      <td>1</td>\n",
       "      <td>296</td>\n",
       "      <td>15.3</td>\n",
       "      <td>4.98</td>\n",
       "      <td>24.0</td>\n",
       "    </tr>\n",
       "    <tr>\n",
       "      <th>2</th>\n",
       "      <td>0.02731</td>\n",
       "      <td>0.0</td>\n",
       "      <td>7.07</td>\n",
       "      <td>0</td>\n",
       "      <td>0.469</td>\n",
       "      <td>6.421</td>\n",
       "      <td>78.9</td>\n",
       "      <td>4.9671</td>\n",
       "      <td>2</td>\n",
       "      <td>242</td>\n",
       "      <td>17.8</td>\n",
       "      <td>9.14</td>\n",
       "      <td>21.6</td>\n",
       "    </tr>\n",
       "    <tr>\n",
       "      <th>3</th>\n",
       "      <td>0.02729</td>\n",
       "      <td>0.0</td>\n",
       "      <td>7.07</td>\n",
       "      <td>0</td>\n",
       "      <td>0.469</td>\n",
       "      <td>7.185</td>\n",
       "      <td>61.1</td>\n",
       "      <td>4.9671</td>\n",
       "      <td>2</td>\n",
       "      <td>242</td>\n",
       "      <td>17.8</td>\n",
       "      <td>4.03</td>\n",
       "      <td>34.7</td>\n",
       "    </tr>\n",
       "    <tr>\n",
       "      <th>4</th>\n",
       "      <td>0.03237</td>\n",
       "      <td>0.0</td>\n",
       "      <td>2.18</td>\n",
       "      <td>0</td>\n",
       "      <td>0.458</td>\n",
       "      <td>6.998</td>\n",
       "      <td>45.8</td>\n",
       "      <td>6.0622</td>\n",
       "      <td>3</td>\n",
       "      <td>222</td>\n",
       "      <td>18.7</td>\n",
       "      <td>2.94</td>\n",
       "      <td>33.4</td>\n",
       "    </tr>\n",
       "    <tr>\n",
       "      <th>5</th>\n",
       "      <td>0.06905</td>\n",
       "      <td>0.0</td>\n",
       "      <td>2.18</td>\n",
       "      <td>0</td>\n",
       "      <td>0.458</td>\n",
       "      <td>7.147</td>\n",
       "      <td>54.2</td>\n",
       "      <td>6.0622</td>\n",
       "      <td>3</td>\n",
       "      <td>222</td>\n",
       "      <td>18.7</td>\n",
       "      <td>5.33</td>\n",
       "      <td>36.2</td>\n",
       "    </tr>\n",
       "    <tr>\n",
       "      <th>...</th>\n",
       "      <td>...</td>\n",
       "      <td>...</td>\n",
       "      <td>...</td>\n",
       "      <td>...</td>\n",
       "      <td>...</td>\n",
       "      <td>...</td>\n",
       "      <td>...</td>\n",
       "      <td>...</td>\n",
       "      <td>...</td>\n",
       "      <td>...</td>\n",
       "      <td>...</td>\n",
       "      <td>...</td>\n",
       "      <td>...</td>\n",
       "    </tr>\n",
       "    <tr>\n",
       "      <th>502</th>\n",
       "      <td>0.06263</td>\n",
       "      <td>0.0</td>\n",
       "      <td>11.93</td>\n",
       "      <td>0</td>\n",
       "      <td>0.573</td>\n",
       "      <td>6.593</td>\n",
       "      <td>69.1</td>\n",
       "      <td>2.4786</td>\n",
       "      <td>1</td>\n",
       "      <td>273</td>\n",
       "      <td>21.0</td>\n",
       "      <td>9.67</td>\n",
       "      <td>22.4</td>\n",
       "    </tr>\n",
       "    <tr>\n",
       "      <th>503</th>\n",
       "      <td>0.04527</td>\n",
       "      <td>0.0</td>\n",
       "      <td>11.93</td>\n",
       "      <td>0</td>\n",
       "      <td>0.573</td>\n",
       "      <td>6.120</td>\n",
       "      <td>76.7</td>\n",
       "      <td>2.2875</td>\n",
       "      <td>1</td>\n",
       "      <td>273</td>\n",
       "      <td>21.0</td>\n",
       "      <td>9.08</td>\n",
       "      <td>20.6</td>\n",
       "    </tr>\n",
       "    <tr>\n",
       "      <th>504</th>\n",
       "      <td>0.06076</td>\n",
       "      <td>0.0</td>\n",
       "      <td>11.93</td>\n",
       "      <td>0</td>\n",
       "      <td>0.573</td>\n",
       "      <td>6.976</td>\n",
       "      <td>91.0</td>\n",
       "      <td>2.1675</td>\n",
       "      <td>1</td>\n",
       "      <td>273</td>\n",
       "      <td>21.0</td>\n",
       "      <td>5.64</td>\n",
       "      <td>23.9</td>\n",
       "    </tr>\n",
       "    <tr>\n",
       "      <th>505</th>\n",
       "      <td>0.10959</td>\n",
       "      <td>0.0</td>\n",
       "      <td>11.93</td>\n",
       "      <td>0</td>\n",
       "      <td>0.573</td>\n",
       "      <td>6.794</td>\n",
       "      <td>89.3</td>\n",
       "      <td>2.3889</td>\n",
       "      <td>1</td>\n",
       "      <td>273</td>\n",
       "      <td>21.0</td>\n",
       "      <td>6.48</td>\n",
       "      <td>22.0</td>\n",
       "    </tr>\n",
       "    <tr>\n",
       "      <th>506</th>\n",
       "      <td>0.04741</td>\n",
       "      <td>0.0</td>\n",
       "      <td>11.93</td>\n",
       "      <td>0</td>\n",
       "      <td>0.573</td>\n",
       "      <td>6.030</td>\n",
       "      <td>80.8</td>\n",
       "      <td>2.5050</td>\n",
       "      <td>1</td>\n",
       "      <td>273</td>\n",
       "      <td>21.0</td>\n",
       "      <td>7.88</td>\n",
       "      <td>11.9</td>\n",
       "    </tr>\n",
       "  </tbody>\n",
       "</table>\n",
       "<p>506 rows × 13 columns</p>\n",
       "</div>"
      ],
      "text/plain": [
       "        crim    zn  indus  chas    nox     rm   age     dis  rad  tax  \\\n",
       "1    0.00632  18.0   2.31     0  0.538  6.575  65.2  4.0900    1  296   \n",
       "2    0.02731   0.0   7.07     0  0.469  6.421  78.9  4.9671    2  242   \n",
       "3    0.02729   0.0   7.07     0  0.469  7.185  61.1  4.9671    2  242   \n",
       "4    0.03237   0.0   2.18     0  0.458  6.998  45.8  6.0622    3  222   \n",
       "5    0.06905   0.0   2.18     0  0.458  7.147  54.2  6.0622    3  222   \n",
       "..       ...   ...    ...   ...    ...    ...   ...     ...  ...  ...   \n",
       "502  0.06263   0.0  11.93     0  0.573  6.593  69.1  2.4786    1  273   \n",
       "503  0.04527   0.0  11.93     0  0.573  6.120  76.7  2.2875    1  273   \n",
       "504  0.06076   0.0  11.93     0  0.573  6.976  91.0  2.1675    1  273   \n",
       "505  0.10959   0.0  11.93     0  0.573  6.794  89.3  2.3889    1  273   \n",
       "506  0.04741   0.0  11.93     0  0.573  6.030  80.8  2.5050    1  273   \n",
       "\n",
       "     ptratio  lstat  medv  \n",
       "1       15.3   4.98  24.0  \n",
       "2       17.8   9.14  21.6  \n",
       "3       17.8   4.03  34.7  \n",
       "4       18.7   2.94  33.4  \n",
       "5       18.7   5.33  36.2  \n",
       "..       ...    ...   ...  \n",
       "502     21.0   9.67  22.4  \n",
       "503     21.0   9.08  20.6  \n",
       "504     21.0   5.64  23.9  \n",
       "505     21.0   6.48  22.0  \n",
       "506     21.0   7.88  11.9  \n",
       "\n",
       "[506 rows x 13 columns]"
      ]
     },
     "execution_count": 2,
     "metadata": {},
     "output_type": "execute_result"
    }
   ],
   "source": [
    "url = \"https://raw.githubusercontent.com/ucla-econ-425t/2023winter/master/slides/data/Boston.csv\"\n",
    "s = requests.get(url).content\n",
    "boston = pd.read_csv(io.StringIO(s.decode('utf-8')), index_col = 0)\n",
    "boston"
   ]
  },
  {
   "cell_type": "code",
   "execution_count": 3,
   "id": "4967d65a",
   "metadata": {},
   "outputs": [
    {
     "name": "stdout",
     "output_type": "stream",
     "text": [
      "<class 'pandas.core.frame.DataFrame'>\n",
      "Int64Index: 506 entries, 1 to 506\n",
      "Data columns (total 13 columns):\n",
      " #   Column   Non-Null Count  Dtype  \n",
      "---  ------   --------------  -----  \n",
      " 0   crim     506 non-null    float64\n",
      " 1   zn       506 non-null    float64\n",
      " 2   indus    506 non-null    float64\n",
      " 3   chas     506 non-null    int64  \n",
      " 4   nox      506 non-null    float64\n",
      " 5   rm       506 non-null    float64\n",
      " 6   age      506 non-null    float64\n",
      " 7   dis      506 non-null    float64\n",
      " 8   rad      506 non-null    int64  \n",
      " 9   tax      506 non-null    int64  \n",
      " 10  ptratio  506 non-null    float64\n",
      " 11  lstat    506 non-null    float64\n",
      " 12  medv     506 non-null    float64\n",
      "dtypes: float64(10), int64(3)\n",
      "memory usage: 55.3 KB\n"
     ]
    }
   ],
   "source": [
    "boston.info()"
   ]
  },
  {
   "cell_type": "code",
   "execution_count": 4,
   "id": "a2b0a35d",
   "metadata": {},
   "outputs": [
    {
     "data": {
      "text/html": [
       "<div>\n",
       "<style scoped>\n",
       "    .dataframe tbody tr th:only-of-type {\n",
       "        vertical-align: middle;\n",
       "    }\n",
       "\n",
       "    .dataframe tbody tr th {\n",
       "        vertical-align: top;\n",
       "    }\n",
       "\n",
       "    .dataframe thead th {\n",
       "        text-align: right;\n",
       "    }\n",
       "</style>\n",
       "<table border=\"1\" class=\"dataframe\">\n",
       "  <thead>\n",
       "    <tr style=\"text-align: right;\">\n",
       "      <th></th>\n",
       "      <th>crim</th>\n",
       "      <th>zn</th>\n",
       "      <th>indus</th>\n",
       "      <th>chas</th>\n",
       "      <th>nox</th>\n",
       "      <th>rm</th>\n",
       "      <th>age</th>\n",
       "      <th>dis</th>\n",
       "      <th>rad</th>\n",
       "      <th>tax</th>\n",
       "      <th>ptratio</th>\n",
       "      <th>lstat</th>\n",
       "      <th>medv</th>\n",
       "    </tr>\n",
       "  </thead>\n",
       "  <tbody>\n",
       "    <tr>\n",
       "      <th>count</th>\n",
       "      <td>506.000000</td>\n",
       "      <td>506.000000</td>\n",
       "      <td>506.000000</td>\n",
       "      <td>506.000000</td>\n",
       "      <td>506.000000</td>\n",
       "      <td>506.000000</td>\n",
       "      <td>506.000000</td>\n",
       "      <td>506.000000</td>\n",
       "      <td>506.000000</td>\n",
       "      <td>506.000000</td>\n",
       "      <td>506.000000</td>\n",
       "      <td>506.000000</td>\n",
       "      <td>506.000000</td>\n",
       "    </tr>\n",
       "    <tr>\n",
       "      <th>mean</th>\n",
       "      <td>3.613524</td>\n",
       "      <td>11.363636</td>\n",
       "      <td>11.136779</td>\n",
       "      <td>0.069170</td>\n",
       "      <td>0.554695</td>\n",
       "      <td>6.284634</td>\n",
       "      <td>68.574901</td>\n",
       "      <td>3.795043</td>\n",
       "      <td>9.549407</td>\n",
       "      <td>408.237154</td>\n",
       "      <td>18.455534</td>\n",
       "      <td>12.653063</td>\n",
       "      <td>22.532806</td>\n",
       "    </tr>\n",
       "    <tr>\n",
       "      <th>std</th>\n",
       "      <td>8.601545</td>\n",
       "      <td>23.322453</td>\n",
       "      <td>6.860353</td>\n",
       "      <td>0.253994</td>\n",
       "      <td>0.115878</td>\n",
       "      <td>0.702617</td>\n",
       "      <td>28.148861</td>\n",
       "      <td>2.105710</td>\n",
       "      <td>8.707259</td>\n",
       "      <td>168.537116</td>\n",
       "      <td>2.164946</td>\n",
       "      <td>7.141062</td>\n",
       "      <td>9.197104</td>\n",
       "    </tr>\n",
       "    <tr>\n",
       "      <th>min</th>\n",
       "      <td>0.006320</td>\n",
       "      <td>0.000000</td>\n",
       "      <td>0.460000</td>\n",
       "      <td>0.000000</td>\n",
       "      <td>0.385000</td>\n",
       "      <td>3.561000</td>\n",
       "      <td>2.900000</td>\n",
       "      <td>1.129600</td>\n",
       "      <td>1.000000</td>\n",
       "      <td>187.000000</td>\n",
       "      <td>12.600000</td>\n",
       "      <td>1.730000</td>\n",
       "      <td>5.000000</td>\n",
       "    </tr>\n",
       "    <tr>\n",
       "      <th>25%</th>\n",
       "      <td>0.082045</td>\n",
       "      <td>0.000000</td>\n",
       "      <td>5.190000</td>\n",
       "      <td>0.000000</td>\n",
       "      <td>0.449000</td>\n",
       "      <td>5.885500</td>\n",
       "      <td>45.025000</td>\n",
       "      <td>2.100175</td>\n",
       "      <td>4.000000</td>\n",
       "      <td>279.000000</td>\n",
       "      <td>17.400000</td>\n",
       "      <td>6.950000</td>\n",
       "      <td>17.025000</td>\n",
       "    </tr>\n",
       "    <tr>\n",
       "      <th>50%</th>\n",
       "      <td>0.256510</td>\n",
       "      <td>0.000000</td>\n",
       "      <td>9.690000</td>\n",
       "      <td>0.000000</td>\n",
       "      <td>0.538000</td>\n",
       "      <td>6.208500</td>\n",
       "      <td>77.500000</td>\n",
       "      <td>3.207450</td>\n",
       "      <td>5.000000</td>\n",
       "      <td>330.000000</td>\n",
       "      <td>19.050000</td>\n",
       "      <td>11.360000</td>\n",
       "      <td>21.200000</td>\n",
       "    </tr>\n",
       "    <tr>\n",
       "      <th>75%</th>\n",
       "      <td>3.677083</td>\n",
       "      <td>12.500000</td>\n",
       "      <td>18.100000</td>\n",
       "      <td>0.000000</td>\n",
       "      <td>0.624000</td>\n",
       "      <td>6.623500</td>\n",
       "      <td>94.075000</td>\n",
       "      <td>5.188425</td>\n",
       "      <td>24.000000</td>\n",
       "      <td>666.000000</td>\n",
       "      <td>20.200000</td>\n",
       "      <td>16.955000</td>\n",
       "      <td>25.000000</td>\n",
       "    </tr>\n",
       "    <tr>\n",
       "      <th>max</th>\n",
       "      <td>88.976200</td>\n",
       "      <td>100.000000</td>\n",
       "      <td>27.740000</td>\n",
       "      <td>1.000000</td>\n",
       "      <td>0.871000</td>\n",
       "      <td>8.780000</td>\n",
       "      <td>100.000000</td>\n",
       "      <td>12.126500</td>\n",
       "      <td>24.000000</td>\n",
       "      <td>711.000000</td>\n",
       "      <td>22.000000</td>\n",
       "      <td>37.970000</td>\n",
       "      <td>50.000000</td>\n",
       "    </tr>\n",
       "  </tbody>\n",
       "</table>\n",
       "</div>"
      ],
      "text/plain": [
       "             crim          zn       indus        chas         nox          rm  \\\n",
       "count  506.000000  506.000000  506.000000  506.000000  506.000000  506.000000   \n",
       "mean     3.613524   11.363636   11.136779    0.069170    0.554695    6.284634   \n",
       "std      8.601545   23.322453    6.860353    0.253994    0.115878    0.702617   \n",
       "min      0.006320    0.000000    0.460000    0.000000    0.385000    3.561000   \n",
       "25%      0.082045    0.000000    5.190000    0.000000    0.449000    5.885500   \n",
       "50%      0.256510    0.000000    9.690000    0.000000    0.538000    6.208500   \n",
       "75%      3.677083   12.500000   18.100000    0.000000    0.624000    6.623500   \n",
       "max     88.976200  100.000000   27.740000    1.000000    0.871000    8.780000   \n",
       "\n",
       "              age         dis         rad         tax     ptratio       lstat  \\\n",
       "count  506.000000  506.000000  506.000000  506.000000  506.000000  506.000000   \n",
       "mean    68.574901    3.795043    9.549407  408.237154   18.455534   12.653063   \n",
       "std     28.148861    2.105710    8.707259  168.537116    2.164946    7.141062   \n",
       "min      2.900000    1.129600    1.000000  187.000000   12.600000    1.730000   \n",
       "25%     45.025000    2.100175    4.000000  279.000000   17.400000    6.950000   \n",
       "50%     77.500000    3.207450    5.000000  330.000000   19.050000   11.360000   \n",
       "75%     94.075000    5.188425   24.000000  666.000000   20.200000   16.955000   \n",
       "max    100.000000   12.126500   24.000000  711.000000   22.000000   37.970000   \n",
       "\n",
       "             medv  \n",
       "count  506.000000  \n",
       "mean    22.532806  \n",
       "std      9.197104  \n",
       "min      5.000000  \n",
       "25%     17.025000  \n",
       "50%     21.200000  \n",
       "75%     25.000000  \n",
       "max     50.000000  "
      ]
     },
     "execution_count": 4,
     "metadata": {},
     "output_type": "execute_result"
    }
   ],
   "source": [
    "boston.describe()"
   ]
  },
  {
   "cell_type": "markdown",
   "id": "e8164fd7",
   "metadata": {},
   "source": [
    "### Data set-up"
   ]
  },
  {
   "cell_type": "code",
   "execution_count": 5,
   "id": "a1b9270a",
   "metadata": {},
   "outputs": [
    {
     "data": {
      "text/plain": [
       "(127, 13)"
      ]
     },
     "execution_count": 5,
     "metadata": {},
     "output_type": "execute_result"
    }
   ],
   "source": [
    "from sklearn.model_selection import train_test_split\n",
    "\n",
    "boston_other, boston_test = train_test_split(\n",
    "  boston, \n",
    "  train_size = 0.75,\n",
    "  random_state = 425, \n",
    "  )\n",
    "boston_test.shape"
   ]
  },
  {
   "cell_type": "code",
   "execution_count": 6,
   "id": "cb4228f4",
   "metadata": {},
   "outputs": [
    {
     "data": {
      "text/plain": [
       "(379, 13)"
      ]
     },
     "execution_count": 6,
     "metadata": {},
     "output_type": "execute_result"
    }
   ],
   "source": [
    "boston_other.shape"
   ]
  },
  {
   "cell_type": "code",
   "execution_count": 7,
   "id": "bdd8fd4f",
   "metadata": {},
   "outputs": [],
   "source": [
    "X_other = boston_other.drop('crim', axis = 1)\n",
    "y_other = boston_other.crim\n",
    "\n",
    "X_test = boston_test.drop('crim', axis = 1)\n",
    "y_test = boston_test.crim"
   ]
  },
  {
   "cell_type": "code",
   "execution_count": 8,
   "id": "5c4e8a0a",
   "metadata": {},
   "outputs": [],
   "source": [
    "from sklearn.preprocessing import OneHotEncoder, StandardScaler\n",
    "\n",
    "scalar = StandardScaler()"
   ]
  },
  {
   "cell_type": "markdown",
   "id": "090412db",
   "metadata": {},
   "source": [
    "### Models"
   ]
  },
  {
   "cell_type": "markdown",
   "id": "2a1381e1",
   "metadata": {},
   "source": [
    "**OLS**"
   ]
  },
  {
   "cell_type": "code",
   "execution_count": 52,
   "id": "4a7288d9",
   "metadata": {},
   "outputs": [],
   "source": [
    "from sklearn.linear_model import LinearRegression"
   ]
  },
  {
   "cell_type": "code",
   "execution_count": 53,
   "id": "98bdcec3",
   "metadata": {},
   "outputs": [
    {
     "data": {
      "text/plain": [
       "LinearRegression()"
      ]
     },
     "execution_count": 53,
     "metadata": {},
     "output_type": "execute_result"
    }
   ],
   "source": [
    "ols = LinearRegression()\n",
    "ols"
   ]
  },
  {
   "cell_type": "code",
   "execution_count": 103,
   "id": "6fff1b16",
   "metadata": {},
   "outputs": [],
   "source": [
    "from sklearn.pipeline import Pipeline\n",
    "\n",
    "pipe = Pipeline([('std_tf', StandardScaler()), \n",
    "                 ('model', ols)])"
   ]
  },
  {
   "cell_type": "code",
   "execution_count": 55,
   "id": "63ada8ea",
   "metadata": {},
   "outputs": [],
   "source": [
    "param_grid = {'model__fit_intercept': [True, False],\n",
    "              'model__normalize': [True, False]}"
   ]
  },
  {
   "cell_type": "code",
   "execution_count": 102,
   "id": "7cd84cc9",
   "metadata": {},
   "outputs": [],
   "source": [
    "from sklearn.model_selection import GridSearchCV\n",
    "\n",
    "\n",
    "grid_search = GridSearchCV(\n",
    "    pipe, \n",
    "    param_grid, \n",
    "    cv=10, \n",
    "    scoring = \"neg_root_mean_squared_error\",\n",
    "    refit = True \n",
    "    ) "
   ]
  },
  {
   "cell_type": "code",
   "execution_count": 57,
   "id": "b22a5602",
   "metadata": {
    "scrolled": false
   },
   "outputs": [
    {
     "data": {
      "text/plain": [
       "GridSearchCV(cv=10,\n",
       "             estimator=Pipeline(steps=[('std_tf', StandardScaler()),\n",
       "                                       ('model', LinearRegression())]),\n",
       "             param_grid={'model__fit_intercept': [True, False],\n",
       "                         'model__normalize': [True, False]},\n",
       "             scoring='neg_root_mean_squared_error')"
      ]
     },
     "execution_count": 57,
     "metadata": {},
     "output_type": "execute_result"
    }
   ],
   "source": [
    "grid_search.fit(X_other, y_other)"
   ]
  },
  {
   "cell_type": "code",
   "execution_count": 62,
   "id": "308eddf4",
   "metadata": {},
   "outputs": [
    {
     "data": {
      "text/plain": [
       "6.82549739605561"
      ]
     },
     "execution_count": 62,
     "metadata": {},
     "output_type": "execute_result"
    }
   ],
   "source": [
    "cv_rmse = -grid_search.best_score_\n",
    "cv_rmse"
   ]
  },
  {
   "cell_type": "code",
   "execution_count": 101,
   "id": "a8bb3a9b",
   "metadata": {},
   "outputs": [
    {
     "data": {
      "text/plain": [
       "3.0350619008717334"
      ]
     },
     "execution_count": 101,
     "metadata": {},
     "output_type": "execute_result"
    }
   ],
   "source": [
    "from sklearn.metrics import mean_squared_error\n",
    "\n",
    "test_rmse = mean_squared_error(y_test, grid_search.best_estimator_.predict(X_test), squared = False)\n",
    "test_rmse"
   ]
  },
  {
   "cell_type": "markdown",
   "id": "22c403f8",
   "metadata": {},
   "source": [
    "**LASSO**"
   ]
  },
  {
   "cell_type": "code",
   "execution_count": 63,
   "id": "1da4a4e5",
   "metadata": {},
   "outputs": [
    {
     "data": {
      "text/plain": [
       "Lasso(max_iter=10000)"
      ]
     },
     "execution_count": 63,
     "metadata": {},
     "output_type": "execute_result"
    }
   ],
   "source": [
    "from sklearn.linear_model import Lasso\n",
    "\n",
    "lasso = Lasso(max_iter = 10000)\n",
    "lasso"
   ]
  },
  {
   "cell_type": "code",
   "execution_count": 64,
   "id": "a38d21cc",
   "metadata": {},
   "outputs": [
    {
     "data": {
      "text/plain": [
       "Pipeline(steps=[('std_tf', StandardScaler()), ('model', Lasso(max_iter=10000))])"
      ]
     },
     "execution_count": 64,
     "metadata": {},
     "output_type": "execute_result"
    }
   ],
   "source": [
    "pipe_l1 = Pipeline(steps = [\n",
    "  (\"std_tf\", scalar), \n",
    "  (\"model\", lasso)])\n",
    "pipe_l1"
   ]
  },
  {
   "cell_type": "code",
   "execution_count": 65,
   "id": "6f6f7776",
   "metadata": {},
   "outputs": [],
   "source": [
    "alphas_l1 = np.logspace(start = -5, stop = 5, base = 10, num = 100)\n",
    "tuned_parameters_l1 = {\"model__alpha\": alphas_l1}"
   ]
  },
  {
   "cell_type": "code",
   "execution_count": 66,
   "id": "b9dc3e6c",
   "metadata": {},
   "outputs": [],
   "source": [
    "n_folds_l1 = 10\n",
    "search_l1 = GridSearchCV(\n",
    "  pipe_l1, \n",
    "  tuned_parameters_l1, \n",
    "  cv = n_folds_l1, \n",
    "  scoring = \"neg_root_mean_squared_error\",\n",
    "  refit = True \n",
    "  )"
   ]
  },
  {
   "cell_type": "code",
   "execution_count": 67,
   "id": "25e1053f",
   "metadata": {},
   "outputs": [
    {
     "data": {
      "text/plain": [
       "GridSearchCV(cv=10,\n",
       "             estimator=Pipeline(steps=[('std_tf', StandardScaler()),\n",
       "                                       ('model', Lasso(max_iter=10000))]),\n",
       "             param_grid={'model__alpha': array([1.00000000e-05, 1.26185688e-05, 1.59228279e-05, 2.00923300e-05,\n",
       "       2.53536449e-05, 3.19926714e-05, 4.03701726e-05, 5.09413801e-05,\n",
       "       6.42807312e-05, 8.11130831e-05, 1.02353102e-04, 1.29154967e-04,\n",
       "       1.62975083e-04, 2.05651231e-04...\n",
       "       4.75081016e+02, 5.99484250e+02, 7.56463328e+02, 9.54548457e+02,\n",
       "       1.20450354e+03, 1.51991108e+03, 1.91791026e+03, 2.42012826e+03,\n",
       "       3.05385551e+03, 3.85352859e+03, 4.86260158e+03, 6.13590727e+03,\n",
       "       7.74263683e+03, 9.77009957e+03, 1.23284674e+04, 1.55567614e+04,\n",
       "       1.96304065e+04, 2.47707636e+04, 3.12571585e+04, 3.94420606e+04,\n",
       "       4.97702356e+04, 6.28029144e+04, 7.92482898e+04, 1.00000000e+05])},\n",
       "             scoring='neg_root_mean_squared_error')"
      ]
     },
     "execution_count": 67,
     "metadata": {},
     "output_type": "execute_result"
    }
   ],
   "source": [
    "search_l1.fit(X_other, y_other)"
   ]
  },
  {
   "cell_type": "code",
   "execution_count": 68,
   "id": "3095d06d",
   "metadata": {},
   "outputs": [
    {
     "data": {
      "text/plain": [
       "<Figure size 432x288 with 0 Axes>"
      ]
     },
     "metadata": {},
     "output_type": "display_data"
    },
    {
     "data": {
      "image/png": "[encoded data removed]",
      "text/plain": [
       "<Figure size 360x360 with 1 Axes>"
      ]
     },
     "metadata": {
      "needs_background": "light"
     },
     "output_type": "display_data"
    }
   ],
   "source": [
    "cv_res_l1 = pd.DataFrame({\n",
    "  \"alpha\": alphas_l1,\n",
    "  \"rmse\": -search_l1.cv_results_[\"mean_test_score\"]\n",
    "  })\n",
    "\n",
    "plt.figure()\n",
    "sns.relplot(\n",
    "  data = cv_res_l1,\n",
    "  x = \"alpha\",\n",
    "  y = \"rmse\"\n",
    "  ).set(\n",
    "    xlabel = \"alpha\",\n",
    "    ylabel = \"CV RMSE\",\n",
    "    xscale = \"log\"\n",
    ");\n",
    "plt.show()"
   ]
  },
  {
   "cell_type": "code",
   "execution_count": 82,
   "id": "72c23f46",
   "metadata": {},
   "outputs": [
    {
     "data": {
      "text/plain": [
       "6.743243955005909"
      ]
     },
     "execution_count": 82,
     "metadata": {},
     "output_type": "execute_result"
    }
   ],
   "source": [
    "cv_rmse_l1 = -search_l1.best_score_\n",
    "cv_rmse_l1"
   ]
  },
  {
   "cell_type": "code",
   "execution_count": 83,
   "id": "052b4332",
   "metadata": {},
   "outputs": [
    {
     "data": {
      "text/plain": [
       "Pipeline(steps=[('std_tf', StandardScaler()),\n",
       "                ('model', Lasso(alpha=0.8902150854450392, max_iter=10000))])"
      ]
     },
     "execution_count": 83,
     "metadata": {},
     "output_type": "execute_result"
    }
   ],
   "source": [
    "search_l1.best_estimator_"
   ]
  },
  {
   "cell_type": "code",
   "execution_count": 93,
   "id": "17e56e20",
   "metadata": {},
   "outputs": [
    {
     "data": {
      "text/plain": [
       "2.5935309152108177"
      ]
     },
     "execution_count": 93,
     "metadata": {},
     "output_type": "execute_result"
    }
   ],
   "source": [
    "test_rmse_l1 = mean_squared_error(y_test, search_l1.best_estimator_.predict(X_test), squared = False)\n",
    "test_rmse_l1"
   ]
  },
  {
   "cell_type": "markdown",
   "id": "e3f5e1f1",
   "metadata": {},
   "source": [
    "**RIDGE**"
   ]
  },
  {
   "cell_type": "code",
   "execution_count": 71,
   "id": "fe5fc1ff",
   "metadata": {},
   "outputs": [
    {
     "data": {
      "text/plain": [
       "Ridge(max_iter=10000)"
      ]
     },
     "execution_count": 71,
     "metadata": {},
     "output_type": "execute_result"
    }
   ],
   "source": [
    "from sklearn.linear_model import Ridge\n",
    "\n",
    "ridge = Ridge(max_iter = 10000)\n",
    "ridge"
   ]
  },
  {
   "cell_type": "code",
   "execution_count": 72,
   "id": "63c51c54",
   "metadata": {},
   "outputs": [
    {
     "data": {
      "text/plain": [
       "Pipeline(steps=[('std_tf', StandardScaler()), ('model', Ridge(max_iter=10000))])"
      ]
     },
     "execution_count": 72,
     "metadata": {},
     "output_type": "execute_result"
    }
   ],
   "source": [
    "pipe_l2 = Pipeline(steps = [\n",
    "  (\"std_tf\", scalar), \n",
    "  (\"model\", ridge)])\n",
    "pipe_l2"
   ]
  },
  {
   "cell_type": "code",
   "execution_count": 73,
   "id": "a3d82b10",
   "metadata": {},
   "outputs": [],
   "source": [
    "alphas_l2 = np.logspace(start = -5, stop = 5, base = 10, num = 100)\n",
    "tuned_parameters_l2 = {\"model__alpha\": alphas_l2}"
   ]
  },
  {
   "cell_type": "code",
   "execution_count": 74,
   "id": "ccc356ab",
   "metadata": {},
   "outputs": [],
   "source": [
    "n_folds_l2 = 10\n",
    "search_l2 = GridSearchCV(\n",
    "  pipe_l2, \n",
    "  tuned_parameters_l2, \n",
    "  cv = n_folds_l2, \n",
    "  scoring = \"neg_root_mean_squared_error\",\n",
    "  refit = True \n",
    "  )"
   ]
  },
  {
   "cell_type": "code",
   "execution_count": 75,
   "id": "8ae0cadd",
   "metadata": {},
   "outputs": [
    {
     "data": {
      "text/plain": [
       "GridSearchCV(cv=10,\n",
       "             estimator=Pipeline(steps=[('std_tf', StandardScaler()),\n",
       "                                       ('model', Ridge(max_iter=10000))]),\n",
       "             param_grid={'model__alpha': array([1.00000000e-05, 1.26185688e-05, 1.59228279e-05, 2.00923300e-05,\n",
       "       2.53536449e-05, 3.19926714e-05, 4.03701726e-05, 5.09413801e-05,\n",
       "       6.42807312e-05, 8.11130831e-05, 1.02353102e-04, 1.29154967e-04,\n",
       "       1.62975083e-04, 2.05651231e-04...\n",
       "       4.75081016e+02, 5.99484250e+02, 7.56463328e+02, 9.54548457e+02,\n",
       "       1.20450354e+03, 1.51991108e+03, 1.91791026e+03, 2.42012826e+03,\n",
       "       3.05385551e+03, 3.85352859e+03, 4.86260158e+03, 6.13590727e+03,\n",
       "       7.74263683e+03, 9.77009957e+03, 1.23284674e+04, 1.55567614e+04,\n",
       "       1.96304065e+04, 2.47707636e+04, 3.12571585e+04, 3.94420606e+04,\n",
       "       4.97702356e+04, 6.28029144e+04, 7.92482898e+04, 1.00000000e+05])},\n",
       "             scoring='neg_root_mean_squared_error')"
      ]
     },
     "execution_count": 75,
     "metadata": {},
     "output_type": "execute_result"
    }
   ],
   "source": [
    "search_l2.fit(X_other, y_other)"
   ]
  },
  {
   "cell_type": "code",
   "execution_count": 76,
   "id": "1fe53564",
   "metadata": {},
   "outputs": [
    {
     "data": {
      "text/plain": [
       "<Figure size 432x288 with 0 Axes>"
      ]
     },
     "metadata": {},
     "output_type": "display_data"
    },
    {
     "data": {
      "image/png": "[encoded data removed]",
      "text/plain": [
       "<Figure size 360x360 with 1 Axes>"
      ]
     },
     "metadata": {
      "needs_background": "light"
     },
     "output_type": "display_data"
    }
   ],
   "source": [
    "cv_res_l2 = pd.DataFrame({\n",
    "  \"alpha\": alphas_l2,\n",
    "  \"rmse\": -search_l2.cv_results_[\"mean_test_score\"]\n",
    "  })\n",
    "\n",
    "plt.figure()\n",
    "sns.relplot(\n",
    "  data = cv_res_l2,\n",
    "  x = \"alpha\",\n",
    "  y = \"rmse\"\n",
    "  ).set(\n",
    "    xlabel = \"alpha\",\n",
    "    ylabel = \"CV RMSE\",\n",
    "    xscale = \"log\"\n",
    ");\n",
    "plt.show()"
   ]
  },
  {
   "cell_type": "code",
   "execution_count": 89,
   "id": "804f2fc6",
   "metadata": {},
   "outputs": [
    {
     "data": {
      "text/plain": [
       "6.73272869881755"
      ]
     },
     "execution_count": 89,
     "metadata": {},
     "output_type": "execute_result"
    }
   ],
   "source": [
    "cv_rmse_l2 = -search_l2.best_score_\n",
    "cv_rmse_l2"
   ]
  },
  {
   "cell_type": "code",
   "execution_count": 90,
   "id": "4bdf1194",
   "metadata": {},
   "outputs": [
    {
     "data": {
      "text/plain": [
       "Pipeline(steps=[('std_tf', StandardScaler()),\n",
       "                ('model', Ridge(alpha=58.57020818056661, max_iter=10000))])"
      ]
     },
     "execution_count": 90,
     "metadata": {},
     "output_type": "execute_result"
    }
   ],
   "source": [
    "search_l2.best_estimator_"
   ]
  },
  {
   "cell_type": "code",
   "execution_count": 91,
   "id": "5595e6ee",
   "metadata": {},
   "outputs": [
    {
     "data": {
      "text/plain": [
       "2.7679272571036835"
      ]
     },
     "execution_count": 91,
     "metadata": {},
     "output_type": "execute_result"
    }
   ],
   "source": [
    "test_rmse_l2 = mean_squared_error(y_test, search_l2.best_estimator_.predict(X_test), squared = False)\n",
    "test_rmse_l2"
   ]
  },
  {
   "cell_type": "markdown",
   "id": "d2fd3a5e",
   "metadata": {},
   "source": [
    "### Results"
   ]
  },
  {
   "cell_type": "code",
   "execution_count": 95,
   "id": "366d6519",
   "metadata": {},
   "outputs": [
    {
     "name": "stdout",
     "output_type": "stream",
     "text": [
      "   Model   CV RMSE  Test RMSE\n",
      "0    OLS  6.825497   3.035062\n",
      "1  Lasso  6.743244   2.593531\n",
      "2  Ridge  6.732729   2.767927\n"
     ]
    }
   ],
   "source": [
    "d = {'Model': [\"OLS\", \"Lasso\", \"Ridge\"], 'CV RMSE': [cv_rmse, cv_rmse_l1, cv_rmse_l2], \n",
    "     'Test RMSE': [test_rmse, test_rmse_l1, test_rmse_l2]}\n",
    "outcome = pd.DataFrame(data=d)\n",
    "print(outcome)"
   ]
  },
  {
   "cell_type": "markdown",
   "id": "b54c4ef3",
   "metadata": {},
   "source": [
    "### PART 2 - MODEL SELECTION"
   ]
  },
  {
   "cell_type": "markdown",
   "id": "ebb83c08",
   "metadata": {},
   "source": [
    "It is better to prioritize the test RMSE as it provides a better indicator of how well the model will perform on unseen data. Cross-validation RMSE can give an optimistic estimate of a model's performance due to overfitting to the training data. Therefore, the selected model is **Lasso**."
   ]
  },
  {
   "cell_type": "markdown",
   "id": "0374189e",
   "metadata": {},
   "source": [
    "### PART 3 - COEFFCIENTS"
   ]
  },
  {
   "cell_type": "code",
   "execution_count": 105,
   "id": "6b9bcc96",
   "metadata": {},
   "outputs": [
    {
     "name": "stdout",
     "output_type": "stream",
     "text": [
      "[-0.          0.         -0.          0.         -0.          0.\n",
      " -0.          4.25732552  0.          0.          0.86334246 -0.50060158]\n"
     ]
    }
   ],
   "source": [
    "print(search_l1.best_estimator_.named_steps.model.coef_)"
   ]
  },
  {
   "cell_type": "code",
   "execution_count": 109,
   "id": "9872bdec",
   "metadata": {},
   "outputs": [
    {
     "name": "stdout",
     "output_type": "stream",
     "text": [
      "   features      coef\n",
      "7       rad  4.257326\n",
      "10    lstat  0.863342\n",
      "11     medv -0.500602\n"
     ]
    }
   ],
   "source": [
    "features = boston.drop('crim', axis = 1).columns \n",
    "coef = search_l1.best_estimator_.named_steps['model'].coef_\n",
    "coef_df = pd.DataFrame({'features': features, 'coef': coef})\n",
    "coef_df = coef_df[coef_df['coef'] != 0]\n",
    "print(coef_df)"
   ]
  },
  {
   "cell_type": "markdown",
   "id": "af534a40",
   "metadata": {},
   "source": [
    "Lasso shrinks the coefficients towards 0 to reduce overfitting and improve the interpretability of the model. By doing this it also performs feature selection, effectively removing irrelevant variables from the model."
   ]
  },
  {
   "cell_type": "markdown",
   "id": "952dcf53",
   "metadata": {},
   "source": [
    "## Bootstrapping (5.4.2)"
   ]
  },
  {
   "cell_type": "markdown",
   "id": "d026c9f7",
   "metadata": {},
   "source": [
    "**(a)** <br>\n",
    "$n$ = number of observations <br>\n",
    "There is an equal probablility to extract any observation during the bootstrapping, hence: <br>\n",
    "$1/n$ = probability to select as first the $j_{th}$ observation <br>\n",
    "So: <br>\n",
    "$1-(1/n)$ = probabilty that the $j_{th}$ observation of the sample is not the first bootstrap observation"
   ]
  },
  {
   "cell_type": "markdown",
   "id": "c60d23b6",
   "metadata": {},
   "source": [
    "**(b)** <br>\n",
    "Bootstrap is sampling with replacement, so the probability is $1-(1/n)$"
   ]
  },
  {
   "cell_type": "markdown",
   "id": "0a7de029",
   "metadata": {},
   "source": [
    "**(c)** <br>\n",
    "The probability of not being selected for an observation is, again, $1-(1/n)$ = $P(s_{i} \\not= j)$. So: <br>\n",
    "$P(s_{1} \\not= j) \\cap\\ P(s_{2} \\not= j) \\cap\\ ... \\cap\\ P(s_{n} \\not= j)$ <br>\n",
    "$= \\prod_{i = 1}^{n} P(s_{n} \\not= j)$ <br>\n",
    "$= \\prod_{i = 1}^{n} 1-(1/n)$ <br>\n",
    "$= (1-(1/n))^n$ is the probability that the $j_{th}$ observation is not in the bootstrap sample"
   ]
  },
  {
   "cell_type": "code",
   "execution_count": 30,
   "id": "c78ca5c9",
   "metadata": {},
   "outputs": [],
   "source": [
    "def boot(n):\n",
    "    p = 1 - (1-(1/n))**n\n",
    "    return p"
   ]
  },
  {
   "cell_type": "code",
   "execution_count": 31,
   "id": "7e8071ec",
   "metadata": {},
   "outputs": [
    {
     "data": {
      "text/plain": [
       "0.6723199999999999"
      ]
     },
     "execution_count": 31,
     "metadata": {},
     "output_type": "execute_result"
    }
   ],
   "source": [
    "#(d)\n",
    "boot(5)"
   ]
  },
  {
   "cell_type": "code",
   "execution_count": 32,
   "id": "60dc69ae",
   "metadata": {},
   "outputs": [
    {
     "data": {
      "text/plain": [
       "0.6339676587267709"
      ]
     },
     "execution_count": 32,
     "metadata": {},
     "output_type": "execute_result"
    }
   ],
   "source": [
    "#(e)\n",
    "boot(100)"
   ]
  },
  {
   "cell_type": "code",
   "execution_count": 33,
   "id": "d4f4f055",
   "metadata": {},
   "outputs": [
    {
     "data": {
      "text/plain": [
       "0.6321389535670295"
      ]
     },
     "execution_count": 33,
     "metadata": {},
     "output_type": "execute_result"
    }
   ],
   "source": [
    "#(f)\n",
    "boot(10000)"
   ]
  },
  {
   "cell_type": "code",
   "execution_count": 9,
   "id": "2701f533",
   "metadata": {},
   "outputs": [
    {
     "data": {
      "image/png": "[encoded data removed]",
      "text/plain": [
       "<Figure size 1080x432 with 1 Axes>"
      ]
     },
     "metadata": {
      "needs_background": "light"
     },
     "output_type": "display_data"
    }
   ],
   "source": [
    "#(g)\n",
    "n = 100000\n",
    "values = range (1, n+1)\n",
    "\n",
    "probabilities = []\n",
    "for i in values:\n",
    "    p = 1 - (1-(1/i))**i\n",
    "    probabilities.append(p)\n",
    "\n",
    "plt.figure(figsize = (15, 6))\n",
    "plt.plot(values, probabilities)\n",
    "plt.xlabel(\"i\")\n",
    "plt.ylabel(\"Probability\")\n",
    "plt.title(\"Probability vs. i\")\n",
    "plt.show()"
   ]
  },
  {
   "cell_type": "markdown",
   "id": "961c5a59",
   "metadata": {},
   "source": [
    "The probability suddenly fall and then approximates towards a probability level just below 0.65."
   ]
  },
  {
   "cell_type": "code",
   "execution_count": 14,
   "id": "0a2fe0ad",
   "metadata": {},
   "outputs": [
    {
     "name": "stdout",
     "output_type": "stream",
     "text": [
      "According to the simulation, the probability that a bootstrap sample of size n = 100 contains the 4th observation is 0.6395\n"
     ]
    }
   ],
   "source": [
    "#(h)\n",
    "store = [None] * 10000\n",
    "\n",
    "for i in range(1, 10001):\n",
    "    store[i-1] = 4 in np.random.choice(100, 100, replace=True)\n",
    "\n",
    "print(\"According to the simulation, the probability that a bootstrap sample of size n = 100 contains the 4th observation is\", \n",
    "      np.mean(store))"
   ]
  },
  {
   "cell_type": "markdown",
   "id": "d4bebd0f",
   "metadata": {},
   "source": [
    "As it has been observed above, the probability converges to a level just below 0.65. "
   ]
  },
  {
   "cell_type": "markdown",
   "id": "532cfa26",
   "metadata": {},
   "source": [
    "## Bootstrapping in Practice (5.4.9)"
   ]
  },
  {
   "cell_type": "code",
   "execution_count": 16,
   "id": "5f2934fd",
   "metadata": {},
   "outputs": [
    {
     "data": {
      "text/html": [
       "<div>\n",
       "<style scoped>\n",
       "    .dataframe tbody tr th:only-of-type {\n",
       "        vertical-align: middle;\n",
       "    }\n",
       "\n",
       "    .dataframe tbody tr th {\n",
       "        vertical-align: top;\n",
       "    }\n",
       "\n",
       "    .dataframe thead th {\n",
       "        text-align: right;\n",
       "    }\n",
       "</style>\n",
       "<table border=\"1\" class=\"dataframe\">\n",
       "  <thead>\n",
       "    <tr style=\"text-align: right;\">\n",
       "      <th></th>\n",
       "      <th>crim</th>\n",
       "      <th>zn</th>\n",
       "      <th>indus</th>\n",
       "      <th>chas</th>\n",
       "      <th>nox</th>\n",
       "      <th>rm</th>\n",
       "      <th>age</th>\n",
       "      <th>dis</th>\n",
       "      <th>rad</th>\n",
       "      <th>tax</th>\n",
       "      <th>ptratio</th>\n",
       "      <th>lstat</th>\n",
       "      <th>medv</th>\n",
       "    </tr>\n",
       "  </thead>\n",
       "  <tbody>\n",
       "    <tr>\n",
       "      <th>1</th>\n",
       "      <td>0.00632</td>\n",
       "      <td>18.0</td>\n",
       "      <td>2.31</td>\n",
       "      <td>0</td>\n",
       "      <td>0.538</td>\n",
       "      <td>6.575</td>\n",
       "      <td>65.2</td>\n",
       "      <td>4.0900</td>\n",
       "      <td>1</td>\n",
       "      <td>296</td>\n",
       "      <td>15.3</td>\n",
       "      <td>4.98</td>\n",
       "      <td>24.0</td>\n",
       "    </tr>\n",
       "    <tr>\n",
       "      <th>2</th>\n",
       "      <td>0.02731</td>\n",
       "      <td>0.0</td>\n",
       "      <td>7.07</td>\n",
       "      <td>0</td>\n",
       "      <td>0.469</td>\n",
       "      <td>6.421</td>\n",
       "      <td>78.9</td>\n",
       "      <td>4.9671</td>\n",
       "      <td>2</td>\n",
       "      <td>242</td>\n",
       "      <td>17.8</td>\n",
       "      <td>9.14</td>\n",
       "      <td>21.6</td>\n",
       "    </tr>\n",
       "    <tr>\n",
       "      <th>3</th>\n",
       "      <td>0.02729</td>\n",
       "      <td>0.0</td>\n",
       "      <td>7.07</td>\n",
       "      <td>0</td>\n",
       "      <td>0.469</td>\n",
       "      <td>7.185</td>\n",
       "      <td>61.1</td>\n",
       "      <td>4.9671</td>\n",
       "      <td>2</td>\n",
       "      <td>242</td>\n",
       "      <td>17.8</td>\n",
       "      <td>4.03</td>\n",
       "      <td>34.7</td>\n",
       "    </tr>\n",
       "    <tr>\n",
       "      <th>4</th>\n",
       "      <td>0.03237</td>\n",
       "      <td>0.0</td>\n",
       "      <td>2.18</td>\n",
       "      <td>0</td>\n",
       "      <td>0.458</td>\n",
       "      <td>6.998</td>\n",
       "      <td>45.8</td>\n",
       "      <td>6.0622</td>\n",
       "      <td>3</td>\n",
       "      <td>222</td>\n",
       "      <td>18.7</td>\n",
       "      <td>2.94</td>\n",
       "      <td>33.4</td>\n",
       "    </tr>\n",
       "    <tr>\n",
       "      <th>5</th>\n",
       "      <td>0.06905</td>\n",
       "      <td>0.0</td>\n",
       "      <td>2.18</td>\n",
       "      <td>0</td>\n",
       "      <td>0.458</td>\n",
       "      <td>7.147</td>\n",
       "      <td>54.2</td>\n",
       "      <td>6.0622</td>\n",
       "      <td>3</td>\n",
       "      <td>222</td>\n",
       "      <td>18.7</td>\n",
       "      <td>5.33</td>\n",
       "      <td>36.2</td>\n",
       "    </tr>\n",
       "    <tr>\n",
       "      <th>...</th>\n",
       "      <td>...</td>\n",
       "      <td>...</td>\n",
       "      <td>...</td>\n",
       "      <td>...</td>\n",
       "      <td>...</td>\n",
       "      <td>...</td>\n",
       "      <td>...</td>\n",
       "      <td>...</td>\n",
       "      <td>...</td>\n",
       "      <td>...</td>\n",
       "      <td>...</td>\n",
       "      <td>...</td>\n",
       "      <td>...</td>\n",
       "    </tr>\n",
       "    <tr>\n",
       "      <th>502</th>\n",
       "      <td>0.06263</td>\n",
       "      <td>0.0</td>\n",
       "      <td>11.93</td>\n",
       "      <td>0</td>\n",
       "      <td>0.573</td>\n",
       "      <td>6.593</td>\n",
       "      <td>69.1</td>\n",
       "      <td>2.4786</td>\n",
       "      <td>1</td>\n",
       "      <td>273</td>\n",
       "      <td>21.0</td>\n",
       "      <td>9.67</td>\n",
       "      <td>22.4</td>\n",
       "    </tr>\n",
       "    <tr>\n",
       "      <th>503</th>\n",
       "      <td>0.04527</td>\n",
       "      <td>0.0</td>\n",
       "      <td>11.93</td>\n",
       "      <td>0</td>\n",
       "      <td>0.573</td>\n",
       "      <td>6.120</td>\n",
       "      <td>76.7</td>\n",
       "      <td>2.2875</td>\n",
       "      <td>1</td>\n",
       "      <td>273</td>\n",
       "      <td>21.0</td>\n",
       "      <td>9.08</td>\n",
       "      <td>20.6</td>\n",
       "    </tr>\n",
       "    <tr>\n",
       "      <th>504</th>\n",
       "      <td>0.06076</td>\n",
       "      <td>0.0</td>\n",
       "      <td>11.93</td>\n",
       "      <td>0</td>\n",
       "      <td>0.573</td>\n",
       "      <td>6.976</td>\n",
       "      <td>91.0</td>\n",
       "      <td>2.1675</td>\n",
       "      <td>1</td>\n",
       "      <td>273</td>\n",
       "      <td>21.0</td>\n",
       "      <td>5.64</td>\n",
       "      <td>23.9</td>\n",
       "    </tr>\n",
       "    <tr>\n",
       "      <th>505</th>\n",
       "      <td>0.10959</td>\n",
       "      <td>0.0</td>\n",
       "      <td>11.93</td>\n",
       "      <td>0</td>\n",
       "      <td>0.573</td>\n",
       "      <td>6.794</td>\n",
       "      <td>89.3</td>\n",
       "      <td>2.3889</td>\n",
       "      <td>1</td>\n",
       "      <td>273</td>\n",
       "      <td>21.0</td>\n",
       "      <td>6.48</td>\n",
       "      <td>22.0</td>\n",
       "    </tr>\n",
       "    <tr>\n",
       "      <th>506</th>\n",
       "      <td>0.04741</td>\n",
       "      <td>0.0</td>\n",
       "      <td>11.93</td>\n",
       "      <td>0</td>\n",
       "      <td>0.573</td>\n",
       "      <td>6.030</td>\n",
       "      <td>80.8</td>\n",
       "      <td>2.5050</td>\n",
       "      <td>1</td>\n",
       "      <td>273</td>\n",
       "      <td>21.0</td>\n",
       "      <td>7.88</td>\n",
       "      <td>11.9</td>\n",
       "    </tr>\n",
       "  </tbody>\n",
       "</table>\n",
       "<p>506 rows × 13 columns</p>\n",
       "</div>"
      ],
      "text/plain": [
       "        crim    zn  indus  chas    nox     rm   age     dis  rad  tax  \\\n",
       "1    0.00632  18.0   2.31     0  0.538  6.575  65.2  4.0900    1  296   \n",
       "2    0.02731   0.0   7.07     0  0.469  6.421  78.9  4.9671    2  242   \n",
       "3    0.02729   0.0   7.07     0  0.469  7.185  61.1  4.9671    2  242   \n",
       "4    0.03237   0.0   2.18     0  0.458  6.998  45.8  6.0622    3  222   \n",
       "5    0.06905   0.0   2.18     0  0.458  7.147  54.2  6.0622    3  222   \n",
       "..       ...   ...    ...   ...    ...    ...   ...     ...  ...  ...   \n",
       "502  0.06263   0.0  11.93     0  0.573  6.593  69.1  2.4786    1  273   \n",
       "503  0.04527   0.0  11.93     0  0.573  6.120  76.7  2.2875    1  273   \n",
       "504  0.06076   0.0  11.93     0  0.573  6.976  91.0  2.1675    1  273   \n",
       "505  0.10959   0.0  11.93     0  0.573  6.794  89.3  2.3889    1  273   \n",
       "506  0.04741   0.0  11.93     0  0.573  6.030  80.8  2.5050    1  273   \n",
       "\n",
       "     ptratio  lstat  medv  \n",
       "1       15.3   4.98  24.0  \n",
       "2       17.8   9.14  21.6  \n",
       "3       17.8   4.03  34.7  \n",
       "4       18.7   2.94  33.4  \n",
       "5       18.7   5.33  36.2  \n",
       "..       ...    ...   ...  \n",
       "502     21.0   9.67  22.4  \n",
       "503     21.0   9.08  20.6  \n",
       "504     21.0   5.64  23.9  \n",
       "505     21.0   6.48  22.0  \n",
       "506     21.0   7.88  11.9  \n",
       "\n",
       "[506 rows x 13 columns]"
      ]
     },
     "execution_count": 16,
     "metadata": {},
     "output_type": "execute_result"
    }
   ],
   "source": [
    "url = \"https://raw.githubusercontent.com/ucla-econ-425t/2023winter/master/slides/data/Boston.csv\"\n",
    "s = requests.get(url).content\n",
    "boston = pd.read_csv(io.StringIO(s.decode('utf-8')), index_col = 0)\n",
    "boston"
   ]
  },
  {
   "cell_type": "markdown",
   "id": "6cb54ce3",
   "metadata": {},
   "source": [
    "### Mean"
   ]
  },
  {
   "cell_type": "code",
   "execution_count": 51,
   "id": "97139ab3",
   "metadata": {},
   "outputs": [
    {
     "data": {
      "text/plain": [
       "22.532806324110698"
      ]
     },
     "execution_count": 51,
     "metadata": {},
     "output_type": "execute_result"
    }
   ],
   "source": [
    "mean = boston.medv.mean()\n",
    "mean"
   ]
  },
  {
   "cell_type": "markdown",
   "id": "2194562e",
   "metadata": {},
   "source": [
    "### SE for the mean"
   ]
  },
  {
   "cell_type": "code",
   "execution_count": 40,
   "id": "577dddc3",
   "metadata": {},
   "outputs": [
    {
     "data": {
      "text/plain": [
       "0.4088611474975351"
      ]
     },
     "execution_count": 40,
     "metadata": {},
     "output_type": "execute_result"
    }
   ],
   "source": [
    "se_m = np.std(boston.medv, ddof=1) / np.sqrt(np.size(boston.medv))\n",
    "se_m"
   ]
  },
  {
   "cell_type": "markdown",
   "id": "8bca8f7a",
   "metadata": {},
   "source": [
    "### Bootstrapped SE for the mean"
   ]
  },
  {
   "cell_type": "code",
   "execution_count": 71,
   "id": "23d2f5ef",
   "metadata": {},
   "outputs": [
    {
     "name": "stdout",
     "output_type": "stream",
     "text": [
      "0.39395969250997764\n"
     ]
    }
   ],
   "source": [
    "def bootstrap_se_of_mean(data, num_samples=1000, sample_size=None):\n",
    "    if sample_size is None:\n",
    "        sample_size = len(data)\n",
    "    samples = np.random.choice(data, (num_samples, sample_size), replace=True)\n",
    "    sample_means = np.mean(samples, axis=1)\n",
    "    se_bm = np.std(sample_means)\n",
    "    lower, upper = np.percentile(sample_means, [2.5, 97.5])\n",
    "    return se_bm, lower, upper\n",
    "\n",
    "se_bm, lower, upper = bootstrap_se_of_mean(boston.medv)\n",
    "print(se_bm)"
   ]
  },
  {
   "cell_type": "code",
   "execution_count": 72,
   "id": "d518010f",
   "metadata": {},
   "outputs": [
    {
     "name": "stdout",
     "output_type": "stream",
     "text": [
      "The SE of the mean is: 0.4088611474975351 \n",
      "The bootstrapped SE of the mean is: 0.39395969250997764\n"
     ]
    }
   ],
   "source": [
    "print(\"The SE of the mean is:\", se_m,\"\\nThe bootstrapped SE of the mean is:\", se_bm)"
   ]
  },
  {
   "cell_type": "markdown",
   "id": "8d62fbdb",
   "metadata": {},
   "source": [
    "### CI for the bootstrapped SE"
   ]
  },
  {
   "cell_type": "code",
   "execution_count": 73,
   "id": "2e61b563",
   "metadata": {},
   "outputs": [],
   "source": [
    "std = boston.medv.std()\n",
    "n = len(boston.medv)\n",
    "df = n - 1\n",
    "t_critical = stats.t.ppf(0.975, df)\n",
    "margin_error = t_critical * std / np.sqrt(n)\n",
    "\n",
    "lower2 = mean - margin_error\n",
    "upper2 = mean + margin_error"
   ]
  },
  {
   "cell_type": "code",
   "execution_count": 85,
   "id": "3151be1f",
   "metadata": {},
   "outputs": [
    {
     "name": "stdout",
     "output_type": "stream",
     "text": [
      "The CI for the bootstrap SE of the mean is: [21.772193675889326, 23.34530138339921]\n",
      "The CI for the SE of the mean is: [21.729528014578616, 23.33608463364278]\n"
     ]
    }
   ],
   "source": [
    "print(\"The CI for the bootstrap SE of the mean is: [{}, {}]\".format(lower, upper))\n",
    "print(\"The CI for the SE of the mean is: [{}, {}]\".format(lower2, upper2))"
   ]
  },
  {
   "cell_type": "markdown",
   "id": "27e3a47a",
   "metadata": {},
   "source": [
    "### Median "
   ]
  },
  {
   "cell_type": "code",
   "execution_count": 66,
   "id": "cd60fa0e",
   "metadata": {},
   "outputs": [
    {
     "data": {
      "text/plain": [
       "21.2"
      ]
     },
     "execution_count": 66,
     "metadata": {},
     "output_type": "execute_result"
    }
   ],
   "source": [
    "med = boston.medv.median()\n",
    "med"
   ]
  },
  {
   "cell_type": "markdown",
   "id": "23e5f18c",
   "metadata": {},
   "source": [
    "### Bootstrapped median"
   ]
  },
  {
   "cell_type": "code",
   "execution_count": 82,
   "id": "e4362467",
   "metadata": {},
   "outputs": [
    {
     "name": "stdout",
     "output_type": "stream",
     "text": [
      "0.37226469077794605\n"
     ]
    }
   ],
   "source": [
    "def bootstrap_se_of_med(data, num_samples=1000, sample_size=None):\n",
    "    if sample_size is None:\n",
    "        sample_size = len(data)\n",
    "    samples = np.random.choice(data, (num_samples, sample_size), replace=True)\n",
    "    sample_med = np.median(samples, axis=1)\n",
    "    se_bmed = np.std(sample_med)\n",
    "    return se_bmed\n",
    "\n",
    "se_bmed = bootstrap_se_of_med(boston.medv)\n",
    "print(se_bmed)"
   ]
  },
  {
   "cell_type": "markdown",
   "id": "30242ff1",
   "metadata": {},
   "source": [
    "### 10% percentile"
   ]
  },
  {
   "cell_type": "code",
   "execution_count": 95,
   "id": "08e92d4b",
   "metadata": {},
   "outputs": [
    {
     "data": {
      "text/plain": [
       "12.75"
      ]
     },
     "execution_count": 95,
     "metadata": {},
     "output_type": "execute_result"
    }
   ],
   "source": [
    "q10 = np.quantile(boston.medv, 0.1)\n",
    "q10"
   ]
  },
  {
   "cell_type": "markdown",
   "id": "7584722b",
   "metadata": {},
   "source": [
    "### Bootstrapped 10% percentile"
   ]
  },
  {
   "cell_type": "code",
   "execution_count": 103,
   "id": "bd75b242",
   "metadata": {},
   "outputs": [
    {
     "name": "stdout",
     "output_type": "stream",
     "text": [
      "0.4951747570302832\n"
     ]
    }
   ],
   "source": [
    "def bootstrap_se_of_q(data, num_samples=1000, sample_size=None):\n",
    "    if sample_size is None:\n",
    "        sample_size = len(data)\n",
    "    samples = np.random.choice(data, (num_samples, sample_size), replace=True)\n",
    "    q10 = np.quantile(samples, 0.1, axis=1)\n",
    "    se_q = np.std(q10)\n",
    "    return se_q\n",
    "\n",
    "se_q = bootstrap_se_of_q(boston.medv)\n",
    "print(se_q)"
   ]
  },
  {
   "cell_type": "markdown",
   "id": "6d169859",
   "metadata": {},
   "source": [
    "The standard error is obtained by bootstrapping and the value is small compared to the tenth percentile which means the results is pretty accurate."
   ]
  }
 ],
 "metadata": {
  "kernelspec": {
   "display_name": "Python 3 (ipykernel)",
   "language": "python",
   "name": "python3"
  },
  "language_info": {
   "codemirror_mode": {
    "name": "ipython",
    "version": 3
   },
   "file_extension": ".py",
   "mimetype": "text/x-python",
   "name": "python",
   "nbconvert_exporter": "python",
   "pygments_lexer": "ipython3",
   "version": "3.9.12"
  }
 },
 "nbformat": 4,
 "nbformat_minor": 5
}
